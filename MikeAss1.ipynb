{
  "nbformat": 4,
  "nbformat_minor": 0,
  "metadata": {
    "colab": {
      "name": "MikeAss1.ipynb",
      "provenance": [],
      "authorship_tag": "ABX9TyPw8M7zEfSYXXUthKoFdl0K",
      "include_colab_link": true
    },
    "kernelspec": {
      "name": "python3",
      "display_name": "Python 3"
    },
    "language_info": {
      "name": "python"
    }
  },
  "cells": [
    {
      "cell_type": "markdown",
      "metadata": {
        "id": "view-in-github",
        "colab_type": "text"
      },
      "source": [
        "<a href=\"https://colab.research.google.com/github/mfiadoyor/UnicornMike/blob/main/MikeAss1.ipynb\" target=\"_parent\"><img src=\"https://colab.research.google.com/assets/colab-badge.svg\" alt=\"Open In Colab\"/></a>"
      ]
    },
    {
      "cell_type": "code",
      "metadata": {
        "id": "jOmGclgukJWz"
      },
      "source": [
        "numTutors=23\n",
        "costEach=2500\n"
      ],
      "execution_count": 1,
      "outputs": []
    },
    {
      "cell_type": "code",
      "metadata": {
        "id": "yljbLjuIk5UO"
      },
      "source": [
        "totalCost=numTutors*costEach"
      ],
      "execution_count": 3,
      "outputs": []
    },
    {
      "cell_type": "code",
      "metadata": {
        "colab": {
          "base_uri": "https://localhost:8080/"
        },
        "id": "bknHDuhDlLEi",
        "outputId": "a784cdcc-14b2-4114-f77b-c9c78205630c"
      },
      "source": [
        "totalCost"
      ],
      "execution_count": 4,
      "outputs": [
        {
          "output_type": "execute_result",
          "data": {
            "text/plain": [
              "57500"
            ]
          },
          "metadata": {
            "tags": []
          },
          "execution_count": 4
        }
      ]
    },
    {
      "cell_type": "code",
      "metadata": {
        "id": "v96NvVeDlUVG"
      },
      "source": [
        "day1_fees=260\n",
        "day2_fees=280"
      ],
      "execution_count": 5,
      "outputs": []
    },
    {
      "cell_type": "code",
      "metadata": {
        "id": "S1kEfj9goZOI"
      },
      "source": [
        "totalFees=day1_fees+day2_fees"
      ],
      "execution_count": 6,
      "outputs": []
    },
    {
      "cell_type": "code",
      "metadata": {
        "colab": {
          "base_uri": "https://localhost:8080/"
        },
        "id": "Hp-ca_zoojBE",
        "outputId": "7371f1d3-f270-4c4e-ec46-a95b98361b3e"
      },
      "source": [
        "print(totalFees)"
      ],
      "execution_count": 7,
      "outputs": [
        {
          "output_type": "stream",
          "text": [
            "540\n"
          ],
          "name": "stdout"
        }
      ]
    }
  ]
}